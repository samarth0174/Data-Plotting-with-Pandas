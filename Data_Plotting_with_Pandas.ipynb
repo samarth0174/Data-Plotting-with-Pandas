{
  "nbformat": 4,
  "nbformat_minor": 0,
  "metadata": {
    "colab": {
      "name": "Data Plotting with Pandas.ipynb",
      "provenance": [],
      "collapsed_sections": [],
      "authorship_tag": "ABX9TyNVEE3XzUYrMlr/YLOEwcKZ",
      "include_colab_link": true
    },
    "kernelspec": {
      "name": "python3",
      "display_name": "Python 3"
    }
  },
  "cells": [
    {
      "cell_type": "markdown",
      "metadata": {
        "id": "view-in-github",
        "colab_type": "text"
      },
      "source": [
        "<a href=\"https://colab.research.google.com/github/samarth0174/Data-Plotting-with-Pandas/blob/master/Data_Plotting_with_Pandas.ipynb\" target=\"_parent\"><img src=\"https://colab.research.google.com/assets/colab-badge.svg\" alt=\"Open In Colab\"/></a>"
      ]
    },
    {
      "cell_type": "markdown",
      "metadata": {
        "id": "FoL930aeHYFC",
        "colab_type": "text"
      },
      "source": [
        "# **Understanding your data in order to get the best results from machine learning algorithms.The fastest way to learn more about your data is to use data visualization.**\n",
        "\n",
        "# Data plotting using Pandas:\n",
        "* Histograms\n",
        "* Density Plots\n",
        "* Box and Whisker Plots\n",
        "* Correlation Matrix Plot\n",
        "* Scatterplot Matrix\n",
        "\n"
      ]
    },
    {
      "cell_type": "code",
      "metadata": {
        "id": "DIgv2zSQFyZW",
        "colab_type": "code",
        "colab": {}
      },
      "source": [
        "# import libraries - pandas,matplotlib req"
      ],
      "execution_count": 0,
      "outputs": []
    },
    {
      "cell_type": "code",
      "metadata": {
        "id": "YH7F73ZkFvqq",
        "colab_type": "code",
        "colab": {}
      },
      "source": [
        "#read Diabates dataset pandas"
      ],
      "execution_count": 0,
      "outputs": []
    },
    {
      "cell_type": "code",
      "metadata": {
        "id": "EIH8lvqVKKW2",
        "colab_type": "code",
        "colab": {}
      },
      "source": [
        "#describe data"
      ],
      "execution_count": 0,
      "outputs": []
    },
    {
      "cell_type": "markdown",
      "metadata": {
        "id": "iujhz88aASUB",
        "colab_type": "text"
      },
      "source": [
        "#**Univariate Plots**\n",
        "* understanding each attribute independently."
      ]
    },
    {
      "cell_type": "markdown",
      "metadata": {
        "id": "efUta-9PFq2G",
        "colab_type": "text"
      },
      "source": [
        "# **Histograms**\n",
        "A fast way to get an idea of the distribution of each attribute is to look at histograms.\n",
        "\n",
        "Histograms group data into bins and provide you a count of the number of observations in each bin. From the shape of the bins you can quickly get a feeling for whether an attribute is Gaussian’, skewed or even has an exponential distribution. It can also help you see possible outliers."
      ]
    },
    {
      "cell_type": "code",
      "metadata": {
        "id": "IhlUvXW29sLe",
        "colab_type": "code",
        "colab": {}
      },
      "source": [
        "#plot histograms for data"
      ],
      "execution_count": 0,
      "outputs": []
    },
    {
      "cell_type": "markdown",
      "metadata": {
        "id": "lsLIlRXbGFIa",
        "colab_type": "text"
      },
      "source": [
        "# **Density Plots**\n",
        "Density plots are another way of getting a quick idea of the distribution of each attribute. The plots look like an abstracted histogram with a smooth curve drawn through the top of each bin, much like your eye tried to do with the histograms."
      ]
    },
    {
      "cell_type": "code",
      "metadata": {
        "id": "4qn29OchGKqL",
        "colab_type": "code",
        "colab": {}
      },
      "source": [
        "#density plot for each attribute "
      ],
      "execution_count": 0,
      "outputs": []
    },
    {
      "cell_type": "markdown",
      "metadata": {
        "id": "UL9vETdBGV97",
        "colab_type": "text"
      },
      "source": [
        "# **Box and Whisker Plots**\n",
        "Another useful way to review the distribution of each attribute is to use Box and Whisker Plots or boxplots for short.\n",
        "\n",
        "Boxplots summarize the distribution of each attribute, drawing a line for the median (middle value) and a box around the 25th and 75th percentiles (the middle 50% of the data). The whiskers give an idea of the spread of the data and dots outside of the whiskers show candidate outlier values (values that are 1.5 times greater than the size of spread of the middle 50% of the data)."
      ]
    },
    {
      "cell_type": "code",
      "metadata": {
        "id": "PG-hwQNFGT9A",
        "colab_type": "code",
        "colab": {}
      },
      "source": [
        "# plot box-plots"
      ],
      "execution_count": 0,
      "outputs": []
    },
    {
      "cell_type": "code",
      "metadata": {
        "id": "_skAVyYoGluk",
        "colab_type": "code",
        "colab": {}
      },
      "source": [
        ""
      ],
      "execution_count": 0,
      "outputs": []
    },
    {
      "cell_type": "markdown",
      "metadata": {
        "id": "ugEjLyHgGpVM",
        "colab_type": "text"
      },
      "source": [
        "# **Multivariate Plots**\n",
        "plots with interactions between multiple variables."
      ]
    },
    {
      "cell_type": "markdown",
      "metadata": {
        "id": "YkhU23awG03a",
        "colab_type": "text"
      },
      "source": [
        "# **Correlation Matrix Plot**\n",
        "Correlation gives an indication of how related the changes are between two variables. If two variables change in the same direction they are positively correlated. If the change in opposite directions together (one goes up, one goes down), then they are negatively correlated.\n",
        "\n",
        "You can calculate the correlation between each pair of attributes. This is called a correlation matrix. \n"
      ]
    },
    {
      "cell_type": "code",
      "metadata": {
        "id": "p0Fv31fsGs-G",
        "colab_type": "code",
        "colab": {}
      },
      "source": [
        "# plot Correlation Matrix Plot"
      ],
      "execution_count": 0,
      "outputs": []
    },
    {
      "cell_type": "code",
      "metadata": {
        "id": "wEbzmwSeHCMy",
        "colab_type": "code",
        "colab": {}
      },
      "source": [
        ""
      ],
      "execution_count": 0,
      "outputs": []
    },
    {
      "cell_type": "markdown",
      "metadata": {
        "id": "joMUH6hRHEog",
        "colab_type": "text"
      },
      "source": [
        "# **Scatterplot Matrix**\n",
        "A scatterplot shows the relationship between two variables as dots in two dimensions, one axis for each attribute. You can create a scatterplot for each pair of attributes in your data. Drawing all these scatterplots together is called a scatterplot matrix.\n",
        "\n",
        "Scatter plots are useful for spotting structured relationships between variables, like whether you could summarize the relationship between two variables with a line. Attributes with structured relationships may also be correlated and good candidates for removal from your dataset."
      ]
    },
    {
      "cell_type": "code",
      "metadata": {
        "id": "c6K3EwZfHG92",
        "colab_type": "code",
        "colab": {}
      },
      "source": [
        "# Scatterplot Matrix"
      ],
      "execution_count": 0,
      "outputs": []
    },
    {
      "cell_type": "markdown",
      "metadata": {
        "id": "z2HX39X5H2-d",
        "colab_type": "text"
      },
      "source": [
        "# **Conclusion**"
      ]
    },
    {
      "cell_type": "code",
      "metadata": {
        "id": "myhp1lxAH2AJ",
        "colab_type": "code",
        "colab": {}
      },
      "source": [
        ""
      ],
      "execution_count": 0,
      "outputs": []
    }
  ]
}