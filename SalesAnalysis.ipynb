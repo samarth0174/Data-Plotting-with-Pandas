{
  "nbformat": 4,
  "nbformat_minor": 0,
  "metadata": {
    "colab": {
      "name": "SalesAnalysis.ipynb",
      "provenance": [],
      "collapsed_sections": [],
      "authorship_tag": "ABX9TyO/3lvwMR5OtDD1wxu4kcl5",
      "include_colab_link": true
    },
    "kernelspec": {
      "name": "python3",
      "display_name": "Python 3"
    }
  },
  "cells": [
    {
      "cell_type": "markdown",
      "metadata": {
        "id": "view-in-github",
        "colab_type": "text"
      },
      "source": [
        "<a href=\"https://colab.research.google.com/github/samarth0174/PANDAS_M_GUIDE/blob/master/SalesAnalysis.ipynb\" target=\"_parent\"><img src=\"https://colab.research.google.com/assets/colab-badge.svg\" alt=\"Open In Colab\"/></a>"
      ]
    },
    {
      "cell_type": "code",
      "metadata": {
        "colab": {
          "base_uri": "https://localhost:8080/"
        },
        "id": "H_kEBKQMS1z7",
        "outputId": "446e0f0a-713a-4cb4-b9c6-00328ebd6a19"
      },
      "source": [
        "!git clone https://github.com/KeithGalli/Pandas-Data-Science-Tasks"
      ],
      "execution_count": 1,
      "outputs": [
        {
          "output_type": "stream",
          "text": [
            "Cloning into 'Pandas-Data-Science-Tasks'...\n",
            "remote: Enumerating objects: 41, done.\u001b[K\n",
            "remote: Total 41 (delta 0), reused 0 (delta 0), pack-reused 41\u001b[K\n",
            "Unpacking objects: 100% (41/41), done.\n"
          ],
          "name": "stdout"
        }
      ]
    },
    {
      "cell_type": "code",
      "metadata": {
        "colab": {
          "base_uri": "https://localhost:8080/"
        },
        "id": "VGxZ3dlqTHfF",
        "outputId": "bba7d2b2-179d-4a20-f70d-a4ddfc5dde9d"
      },
      "source": [
        "cd Pandas-Data-Science-Tasks/"
      ],
      "execution_count": 2,
      "outputs": [
        {
          "output_type": "stream",
          "text": [
            "/content/Pandas-Data-Science-Tasks\n"
          ],
          "name": "stdout"
        }
      ]
    },
    {
      "cell_type": "code",
      "metadata": {
        "colab": {
          "base_uri": "https://localhost:8080/",
          "height": 35
        },
        "id": "rVTU47doTRX_",
        "outputId": "78b9800e-d51a-43a2-9344-62a6235d0f94"
      },
      "source": [
        "pwd"
      ],
      "execution_count": 3,
      "outputs": [
        {
          "output_type": "execute_result",
          "data": {
            "application/vnd.google.colaboratory.intrinsic+json": {
              "type": "string"
            },
            "text/plain": [
              "'/content/Pandas-Data-Science-Tasks'"
            ]
          },
          "metadata": {
            "tags": []
          },
          "execution_count": 3
        }
      ]
    },
    {
      "cell_type": "code",
      "metadata": {
        "colab": {
          "base_uri": "https://localhost:8080/"
        },
        "id": "DKCErlrKTSjp",
        "outputId": "1335e92f-a05f-499b-b329-85a355c6c1c9"
      },
      "source": [
        "cd SalesAnalysis/"
      ],
      "execution_count": 4,
      "outputs": [
        {
          "output_type": "stream",
          "text": [
            "/content/Pandas-Data-Science-Tasks/SalesAnalysis\n"
          ],
          "name": "stdout"
        }
      ]
    },
    {
      "cell_type": "markdown",
      "metadata": {
        "id": "SJ8VnqL_Tzs9"
      },
      "source": [
        "**Import Libraries**"
      ]
    },
    {
      "cell_type": "code",
      "metadata": {
        "id": "jn6_1OkNTYDR"
      },
      "source": [
        "import pandas as pd\n",
        "import os"
      ],
      "execution_count": 5,
      "outputs": []
    },
    {
      "cell_type": "code",
      "metadata": {
        "id": "C0mXvQaCW7tW"
      },
      "source": [
        ""
      ],
      "execution_count": 5,
      "outputs": []
    },
    {
      "cell_type": "markdown",
      "metadata": {
        "id": "g1jVFeZIUBDC"
      },
      "source": [
        "**Merge the 12 month of sales data into a single CSV file**"
      ]
    },
    {
      "cell_type": "code",
      "metadata": {
        "id": "cWZ7hBZIXB-P"
      },
      "source": [
        "files = [file for file in os.listdir('./Sales_Data')]\n",
        "all_months_data = pd.DataFrame()\n",
        "for file in files:\n",
        "  df = pd.read_csv(\"./Sales_Data/\" + file)\n",
        "  all_months_data =  pd.concat([all_months_data,df])\n",
        "\n",
        "#save all data merged\n",
        "all_months_data.to_csv(\"all_data_csv\",index=False)"
      ],
      "execution_count": 6,
      "outputs": []
    },
    {
      "cell_type": "markdown",
      "metadata": {
        "id": "zUAWxpLTZssY"
      },
      "source": [
        "**Read merged csv**"
      ]
    },
    {
      "cell_type": "code",
      "metadata": {
        "id": "ypExr8hSYC-H"
      },
      "source": [
        "all_data = pd.read_csv(\"all_data_csv\")"
      ],
      "execution_count": 7,
      "outputs": []
    },
    {
      "cell_type": "code",
      "metadata": {
        "colab": {
          "base_uri": "https://localhost:8080/"
        },
        "id": "xasDTNuubUfY",
        "outputId": "b872c9ed-82de-4e26-eb85-905df96a5e09"
      },
      "source": [
        "all_data.info()"
      ],
      "execution_count": 8,
      "outputs": [
        {
          "output_type": "stream",
          "text": [
            "<class 'pandas.core.frame.DataFrame'>\n",
            "RangeIndex: 186850 entries, 0 to 186849\n",
            "Data columns (total 6 columns):\n",
            " #   Column            Non-Null Count   Dtype \n",
            "---  ------            --------------   ----- \n",
            " 0   Order ID          186305 non-null  object\n",
            " 1   Product           186305 non-null  object\n",
            " 2   Quantity Ordered  186305 non-null  object\n",
            " 3   Price Each        186305 non-null  object\n",
            " 4   Order Date        186305 non-null  object\n",
            " 5   Purchase Address  186305 non-null  object\n",
            "dtypes: object(6)\n",
            "memory usage: 8.6+ MB\n"
          ],
          "name": "stdout"
        }
      ]
    },
    {
      "cell_type": "code",
      "metadata": {
        "colab": {
          "base_uri": "https://localhost:8080/",
          "height": 206
        },
        "id": "BQB-oiURZcLk",
        "outputId": "323fc99a-482a-402d-b8b4-32c40976511a"
      },
      "source": [
        "all_data.head()\n"
      ],
      "execution_count": 9,
      "outputs": [
        {
          "output_type": "execute_result",
          "data": {
            "text/html": [
              "<div>\n",
              "<style scoped>\n",
              "    .dataframe tbody tr th:only-of-type {\n",
              "        vertical-align: middle;\n",
              "    }\n",
              "\n",
              "    .dataframe tbody tr th {\n",
              "        vertical-align: top;\n",
              "    }\n",
              "\n",
              "    .dataframe thead th {\n",
              "        text-align: right;\n",
              "    }\n",
              "</style>\n",
              "<table border=\"1\" class=\"dataframe\">\n",
              "  <thead>\n",
              "    <tr style=\"text-align: right;\">\n",
              "      <th></th>\n",
              "      <th>Order ID</th>\n",
              "      <th>Product</th>\n",
              "      <th>Quantity Ordered</th>\n",
              "      <th>Price Each</th>\n",
              "      <th>Order Date</th>\n",
              "      <th>Purchase Address</th>\n",
              "    </tr>\n",
              "  </thead>\n",
              "  <tbody>\n",
              "    <tr>\n",
              "      <th>0</th>\n",
              "      <td>194095</td>\n",
              "      <td>Wired Headphones</td>\n",
              "      <td>1</td>\n",
              "      <td>11.99</td>\n",
              "      <td>05/16/19 17:14</td>\n",
              "      <td>669 2nd St, New York City, NY 10001</td>\n",
              "    </tr>\n",
              "    <tr>\n",
              "      <th>1</th>\n",
              "      <td>194096</td>\n",
              "      <td>AA Batteries (4-pack)</td>\n",
              "      <td>1</td>\n",
              "      <td>3.84</td>\n",
              "      <td>05/19/19 14:43</td>\n",
              "      <td>844 Walnut St, Dallas, TX 75001</td>\n",
              "    </tr>\n",
              "    <tr>\n",
              "      <th>2</th>\n",
              "      <td>194097</td>\n",
              "      <td>27in FHD Monitor</td>\n",
              "      <td>1</td>\n",
              "      <td>149.99</td>\n",
              "      <td>05/24/19 11:36</td>\n",
              "      <td>164 Madison St, New York City, NY 10001</td>\n",
              "    </tr>\n",
              "    <tr>\n",
              "      <th>3</th>\n",
              "      <td>194098</td>\n",
              "      <td>Wired Headphones</td>\n",
              "      <td>1</td>\n",
              "      <td>11.99</td>\n",
              "      <td>05/02/19 20:40</td>\n",
              "      <td>622 Meadow St, Dallas, TX 75001</td>\n",
              "    </tr>\n",
              "    <tr>\n",
              "      <th>4</th>\n",
              "      <td>194099</td>\n",
              "      <td>AAA Batteries (4-pack)</td>\n",
              "      <td>2</td>\n",
              "      <td>2.99</td>\n",
              "      <td>05/11/19 22:55</td>\n",
              "      <td>17 Church St, Seattle, WA 98101</td>\n",
              "    </tr>\n",
              "  </tbody>\n",
              "</table>\n",
              "</div>"
            ],
            "text/plain": [
              "  Order ID  ...                         Purchase Address\n",
              "0   194095  ...      669 2nd St, New York City, NY 10001\n",
              "1   194096  ...          844 Walnut St, Dallas, TX 75001\n",
              "2   194097  ...  164 Madison St, New York City, NY 10001\n",
              "3   194098  ...          622 Meadow St, Dallas, TX 75001\n",
              "4   194099  ...          17 Church St, Seattle, WA 98101\n",
              "\n",
              "[5 rows x 6 columns]"
            ]
          },
          "metadata": {
            "tags": []
          },
          "execution_count": 9
        }
      ]
    },
    {
      "cell_type": "markdown",
      "metadata": {
        "id": "atef7l_lq_l4"
      },
      "source": [
        "**Clea up the data**"
      ]
    },
    {
      "cell_type": "code",
      "metadata": {
        "id": "QLutH6xUq9-B"
      },
      "source": [
        "all_data = all_data.dropna(how='all')"
      ],
      "execution_count": 10,
      "outputs": []
    },
    {
      "cell_type": "code",
      "metadata": {
        "colab": {
          "base_uri": "https://localhost:8080/",
          "height": 206
        },
        "id": "E784T2N-q-Am",
        "outputId": "d1ff265f-2af8-4144-c4ef-ca32c1e9fbd5"
      },
      "source": [
        "all_data.head()"
      ],
      "execution_count": 11,
      "outputs": [
        {
          "output_type": "execute_result",
          "data": {
            "text/html": [
              "<div>\n",
              "<style scoped>\n",
              "    .dataframe tbody tr th:only-of-type {\n",
              "        vertical-align: middle;\n",
              "    }\n",
              "\n",
              "    .dataframe tbody tr th {\n",
              "        vertical-align: top;\n",
              "    }\n",
              "\n",
              "    .dataframe thead th {\n",
              "        text-align: right;\n",
              "    }\n",
              "</style>\n",
              "<table border=\"1\" class=\"dataframe\">\n",
              "  <thead>\n",
              "    <tr style=\"text-align: right;\">\n",
              "      <th></th>\n",
              "      <th>Order ID</th>\n",
              "      <th>Product</th>\n",
              "      <th>Quantity Ordered</th>\n",
              "      <th>Price Each</th>\n",
              "      <th>Order Date</th>\n",
              "      <th>Purchase Address</th>\n",
              "    </tr>\n",
              "  </thead>\n",
              "  <tbody>\n",
              "    <tr>\n",
              "      <th>0</th>\n",
              "      <td>194095</td>\n",
              "      <td>Wired Headphones</td>\n",
              "      <td>1</td>\n",
              "      <td>11.99</td>\n",
              "      <td>05/16/19 17:14</td>\n",
              "      <td>669 2nd St, New York City, NY 10001</td>\n",
              "    </tr>\n",
              "    <tr>\n",
              "      <th>1</th>\n",
              "      <td>194096</td>\n",
              "      <td>AA Batteries (4-pack)</td>\n",
              "      <td>1</td>\n",
              "      <td>3.84</td>\n",
              "      <td>05/19/19 14:43</td>\n",
              "      <td>844 Walnut St, Dallas, TX 75001</td>\n",
              "    </tr>\n",
              "    <tr>\n",
              "      <th>2</th>\n",
              "      <td>194097</td>\n",
              "      <td>27in FHD Monitor</td>\n",
              "      <td>1</td>\n",
              "      <td>149.99</td>\n",
              "      <td>05/24/19 11:36</td>\n",
              "      <td>164 Madison St, New York City, NY 10001</td>\n",
              "    </tr>\n",
              "    <tr>\n",
              "      <th>3</th>\n",
              "      <td>194098</td>\n",
              "      <td>Wired Headphones</td>\n",
              "      <td>1</td>\n",
              "      <td>11.99</td>\n",
              "      <td>05/02/19 20:40</td>\n",
              "      <td>622 Meadow St, Dallas, TX 75001</td>\n",
              "    </tr>\n",
              "    <tr>\n",
              "      <th>4</th>\n",
              "      <td>194099</td>\n",
              "      <td>AAA Batteries (4-pack)</td>\n",
              "      <td>2</td>\n",
              "      <td>2.99</td>\n",
              "      <td>05/11/19 22:55</td>\n",
              "      <td>17 Church St, Seattle, WA 98101</td>\n",
              "    </tr>\n",
              "  </tbody>\n",
              "</table>\n",
              "</div>"
            ],
            "text/plain": [
              "  Order ID  ...                         Purchase Address\n",
              "0   194095  ...      669 2nd St, New York City, NY 10001\n",
              "1   194096  ...          844 Walnut St, Dallas, TX 75001\n",
              "2   194097  ...  164 Madison St, New York City, NY 10001\n",
              "3   194098  ...          622 Meadow St, Dallas, TX 75001\n",
              "4   194099  ...          17 Church St, Seattle, WA 98101\n",
              "\n",
              "[5 rows x 6 columns]"
            ]
          },
          "metadata": {
            "tags": []
          },
          "execution_count": 11
        }
      ]
    },
    {
      "cell_type": "code",
      "metadata": {
        "id": "UorLHVZTq-GA"
      },
      "source": [
        "all_data = all_data[all_data['Order Date'].str[0:2]!=\"Or\"] "
      ],
      "execution_count": 12,
      "outputs": []
    },
    {
      "cell_type": "code",
      "metadata": {
        "id": "pjjcmJdPq-0s"
      },
      "source": [
        ""
      ],
      "execution_count": 12,
      "outputs": []
    },
    {
      "cell_type": "markdown",
      "metadata": {
        "id": "ahMlRgCWqMw1"
      },
      "source": [
        "**Augment data**"
      ]
    },
    {
      "cell_type": "code",
      "metadata": {
        "id": "jmBCmwUMqSdZ"
      },
      "source": [
        "#add month colm\n",
        "all_data['month'] = all_data['Order Date'].str[0:2]\n",
        "all_data['month'] = all_data['month'].astype('int32')"
      ],
      "execution_count": 13,
      "outputs": []
    },
    {
      "cell_type": "code",
      "metadata": {
        "colab": {
          "base_uri": "https://localhost:8080/",
          "height": 206
        },
        "id": "hPglSyCBqSfy",
        "outputId": "71413c07-4d43-413b-f5f1-118057c323a7"
      },
      "source": [
        "all_data.head()"
      ],
      "execution_count": 14,
      "outputs": [
        {
          "output_type": "execute_result",
          "data": {
            "text/html": [
              "<div>\n",
              "<style scoped>\n",
              "    .dataframe tbody tr th:only-of-type {\n",
              "        vertical-align: middle;\n",
              "    }\n",
              "\n",
              "    .dataframe tbody tr th {\n",
              "        vertical-align: top;\n",
              "    }\n",
              "\n",
              "    .dataframe thead th {\n",
              "        text-align: right;\n",
              "    }\n",
              "</style>\n",
              "<table border=\"1\" class=\"dataframe\">\n",
              "  <thead>\n",
              "    <tr style=\"text-align: right;\">\n",
              "      <th></th>\n",
              "      <th>Order ID</th>\n",
              "      <th>Product</th>\n",
              "      <th>Quantity Ordered</th>\n",
              "      <th>Price Each</th>\n",
              "      <th>Order Date</th>\n",
              "      <th>Purchase Address</th>\n",
              "      <th>month</th>\n",
              "    </tr>\n",
              "  </thead>\n",
              "  <tbody>\n",
              "    <tr>\n",
              "      <th>0</th>\n",
              "      <td>194095</td>\n",
              "      <td>Wired Headphones</td>\n",
              "      <td>1</td>\n",
              "      <td>11.99</td>\n",
              "      <td>05/16/19 17:14</td>\n",
              "      <td>669 2nd St, New York City, NY 10001</td>\n",
              "      <td>5</td>\n",
              "    </tr>\n",
              "    <tr>\n",
              "      <th>1</th>\n",
              "      <td>194096</td>\n",
              "      <td>AA Batteries (4-pack)</td>\n",
              "      <td>1</td>\n",
              "      <td>3.84</td>\n",
              "      <td>05/19/19 14:43</td>\n",
              "      <td>844 Walnut St, Dallas, TX 75001</td>\n",
              "      <td>5</td>\n",
              "    </tr>\n",
              "    <tr>\n",
              "      <th>2</th>\n",
              "      <td>194097</td>\n",
              "      <td>27in FHD Monitor</td>\n",
              "      <td>1</td>\n",
              "      <td>149.99</td>\n",
              "      <td>05/24/19 11:36</td>\n",
              "      <td>164 Madison St, New York City, NY 10001</td>\n",
              "      <td>5</td>\n",
              "    </tr>\n",
              "    <tr>\n",
              "      <th>3</th>\n",
              "      <td>194098</td>\n",
              "      <td>Wired Headphones</td>\n",
              "      <td>1</td>\n",
              "      <td>11.99</td>\n",
              "      <td>05/02/19 20:40</td>\n",
              "      <td>622 Meadow St, Dallas, TX 75001</td>\n",
              "      <td>5</td>\n",
              "    </tr>\n",
              "    <tr>\n",
              "      <th>4</th>\n",
              "      <td>194099</td>\n",
              "      <td>AAA Batteries (4-pack)</td>\n",
              "      <td>2</td>\n",
              "      <td>2.99</td>\n",
              "      <td>05/11/19 22:55</td>\n",
              "      <td>17 Church St, Seattle, WA 98101</td>\n",
              "      <td>5</td>\n",
              "    </tr>\n",
              "  </tbody>\n",
              "</table>\n",
              "</div>"
            ],
            "text/plain": [
              "  Order ID  ... month\n",
              "0   194095  ...     5\n",
              "1   194096  ...     5\n",
              "2   194097  ...     5\n",
              "3   194098  ...     5\n",
              "4   194099  ...     5\n",
              "\n",
              "[5 rows x 7 columns]"
            ]
          },
          "metadata": {
            "tags": []
          },
          "execution_count": 14
        }
      ]
    },
    {
      "cell_type": "code",
      "metadata": {
        "id": "l-J-1MrIqSu7"
      },
      "source": [
        "#add Sales column\n",
        "all_data['Price Each'] = all_data['Price Each'].astype('float32')\n",
        "all_data['Quantity Ordered'] = all_data['Quantity Ordered'].astype('int32')\n",
        "all_data['sales'] = all_data['Price Each'] * all_data['Quantity Ordered']"
      ],
      "execution_count": 15,
      "outputs": []
    },
    {
      "cell_type": "code",
      "metadata": {
        "colab": {
          "base_uri": "https://localhost:8080/",
          "height": 206
        },
        "id": "syDl-xUirhDP",
        "outputId": "1e8ae8d0-7cf2-4be1-e67a-d2fa64194431"
      },
      "source": [
        "#add City Column:\n",
        "#Using .apply() pandas\n",
        "\n",
        "# note : Name(state) combination is imp. bcs 2 cities have same name.\n",
        "all_data['city'] = all_data['Purchase Address'].apply(lambda x: x.split(',')[1] + \"(\" + x.split(',')[2].split(' ')[1] + \")\")\n",
        "all_data.head()"
      ],
      "execution_count": 16,
      "outputs": [
        {
          "output_type": "execute_result",
          "data": {
            "text/html": [
              "<div>\n",
              "<style scoped>\n",
              "    .dataframe tbody tr th:only-of-type {\n",
              "        vertical-align: middle;\n",
              "    }\n",
              "\n",
              "    .dataframe tbody tr th {\n",
              "        vertical-align: top;\n",
              "    }\n",
              "\n",
              "    .dataframe thead th {\n",
              "        text-align: right;\n",
              "    }\n",
              "</style>\n",
              "<table border=\"1\" class=\"dataframe\">\n",
              "  <thead>\n",
              "    <tr style=\"text-align: right;\">\n",
              "      <th></th>\n",
              "      <th>Order ID</th>\n",
              "      <th>Product</th>\n",
              "      <th>Quantity Ordered</th>\n",
              "      <th>Price Each</th>\n",
              "      <th>Order Date</th>\n",
              "      <th>Purchase Address</th>\n",
              "      <th>month</th>\n",
              "      <th>sales</th>\n",
              "      <th>city</th>\n",
              "    </tr>\n",
              "  </thead>\n",
              "  <tbody>\n",
              "    <tr>\n",
              "      <th>0</th>\n",
              "      <td>194095</td>\n",
              "      <td>Wired Headphones</td>\n",
              "      <td>1</td>\n",
              "      <td>11.990000</td>\n",
              "      <td>05/16/19 17:14</td>\n",
              "      <td>669 2nd St, New York City, NY 10001</td>\n",
              "      <td>5</td>\n",
              "      <td>11.990000</td>\n",
              "      <td>New York City(NY)</td>\n",
              "    </tr>\n",
              "    <tr>\n",
              "      <th>1</th>\n",
              "      <td>194096</td>\n",
              "      <td>AA Batteries (4-pack)</td>\n",
              "      <td>1</td>\n",
              "      <td>3.840000</td>\n",
              "      <td>05/19/19 14:43</td>\n",
              "      <td>844 Walnut St, Dallas, TX 75001</td>\n",
              "      <td>5</td>\n",
              "      <td>3.840000</td>\n",
              "      <td>Dallas(TX)</td>\n",
              "    </tr>\n",
              "    <tr>\n",
              "      <th>2</th>\n",
              "      <td>194097</td>\n",
              "      <td>27in FHD Monitor</td>\n",
              "      <td>1</td>\n",
              "      <td>149.990005</td>\n",
              "      <td>05/24/19 11:36</td>\n",
              "      <td>164 Madison St, New York City, NY 10001</td>\n",
              "      <td>5</td>\n",
              "      <td>149.990005</td>\n",
              "      <td>New York City(NY)</td>\n",
              "    </tr>\n",
              "    <tr>\n",
              "      <th>3</th>\n",
              "      <td>194098</td>\n",
              "      <td>Wired Headphones</td>\n",
              "      <td>1</td>\n",
              "      <td>11.990000</td>\n",
              "      <td>05/02/19 20:40</td>\n",
              "      <td>622 Meadow St, Dallas, TX 75001</td>\n",
              "      <td>5</td>\n",
              "      <td>11.990000</td>\n",
              "      <td>Dallas(TX)</td>\n",
              "    </tr>\n",
              "    <tr>\n",
              "      <th>4</th>\n",
              "      <td>194099</td>\n",
              "      <td>AAA Batteries (4-pack)</td>\n",
              "      <td>2</td>\n",
              "      <td>2.990000</td>\n",
              "      <td>05/11/19 22:55</td>\n",
              "      <td>17 Church St, Seattle, WA 98101</td>\n",
              "      <td>5</td>\n",
              "      <td>5.980000</td>\n",
              "      <td>Seattle(WA)</td>\n",
              "    </tr>\n",
              "  </tbody>\n",
              "</table>\n",
              "</div>"
            ],
            "text/plain": [
              "  Order ID                 Product  ...       sales                city\n",
              "0   194095        Wired Headphones  ...   11.990000   New York City(NY)\n",
              "1   194096   AA Batteries (4-pack)  ...    3.840000          Dallas(TX)\n",
              "2   194097        27in FHD Monitor  ...  149.990005   New York City(NY)\n",
              "3   194098        Wired Headphones  ...   11.990000          Dallas(TX)\n",
              "4   194099  AAA Batteries (4-pack)  ...    5.980000         Seattle(WA)\n",
              "\n",
              "[5 rows x 9 columns]"
            ]
          },
          "metadata": {
            "tags": []
          },
          "execution_count": 16
        }
      ]
    },
    {
      "cell_type": "markdown",
      "metadata": {
        "id": "KbIYuv_zZ4Uf"
      },
      "source": [
        "##**Ques1 : What was the best month for sales?How much was earned that month?**"
      ]
    },
    {
      "cell_type": "code",
      "metadata": {
        "id": "hKDv2kkEaFM4"
      },
      "source": [
        "month_sales_stat = all_data.groupby(['month']).sum()\n"
      ],
      "execution_count": 17,
      "outputs": []
    },
    {
      "cell_type": "code",
      "metadata": {
        "colab": {
          "base_uri": "https://localhost:8080/",
          "height": 290
        },
        "id": "4hkK2OnIbbUb",
        "outputId": "1142b11c-8279-4c7b-b884-7742f37e677f"
      },
      "source": [
        "import matplotlib.pyplot as plt\n",
        "months = range(1,13)\n",
        "plt.bar(months,month_sales_stat['sales'])\n",
        "plt.xticks(months)\n",
        "plt.ylabel(\"Sales in US($)\")\n",
        "plt.xlabel(\"Month Number\")\n",
        "plt.show()\n"
      ],
      "execution_count": 18,
      "outputs": [
        {
          "output_type": "display_data",
          "data": {
            "image/png": "[encoded data removed]",
            "text/plain": [
              "<Figure size 432x288 with 1 Axes>"
            ]
          },
          "metadata": {
            "tags": [],
            "needs_background": "light"
          }
        }
      ]
    },
    {
      "cell_type": "markdown",
      "metadata": {
        "id": "n6YMp6hNrSYt"
      },
      "source": [
        "## **What US city had the highest Number of Sales:**"
      ]
    },
    {
      "cell_type": "code",
      "metadata": {
        "colab": {
          "base_uri": "https://localhost:8080/",
          "height": 394
        },
        "id": "ljDEPBdGqtz8",
        "outputId": "be0f6c14-9e8a-4ea9-bc82-8f63f59aa7b9"
      },
      "source": [
        "city_sales_stat = all_data.groupby(['city']).sum()\n",
        "city_sales_stat"
      ],
      "execution_count": 19,
      "outputs": [
        {
          "output_type": "execute_result",
          "data": {
            "text/html": [
              "<div>\n",
              "<style scoped>\n",
              "    .dataframe tbody tr th:only-of-type {\n",
              "        vertical-align: middle;\n",
              "    }\n",
              "\n",
              "    .dataframe tbody tr th {\n",
              "        vertical-align: top;\n",
              "    }\n",
              "\n",
              "    .dataframe thead th {\n",
              "        text-align: right;\n",
              "    }\n",
              "</style>\n",
              "<table border=\"1\" class=\"dataframe\">\n",
              "  <thead>\n",
              "    <tr style=\"text-align: right;\">\n",
              "      <th></th>\n",
              "      <th>Quantity Ordered</th>\n",
              "      <th>Price Each</th>\n",
              "      <th>month</th>\n",
              "      <th>sales</th>\n",
              "    </tr>\n",
              "    <tr>\n",
              "      <th>city</th>\n",
              "      <th></th>\n",
              "      <th></th>\n",
              "      <th></th>\n",
              "      <th></th>\n",
              "    </tr>\n",
              "  </thead>\n",
              "  <tbody>\n",
              "    <tr>\n",
              "      <th>Atlanta(GA)</th>\n",
              "      <td>16602</td>\n",
              "      <td>2779908.250</td>\n",
              "      <td>104794</td>\n",
              "      <td>2.795498e+06</td>\n",
              "    </tr>\n",
              "    <tr>\n",
              "      <th>Austin(TX)</th>\n",
              "      <td>11153</td>\n",
              "      <td>1809873.625</td>\n",
              "      <td>69829</td>\n",
              "      <td>1.819582e+06</td>\n",
              "    </tr>\n",
              "    <tr>\n",
              "      <th>Boston(MA)</th>\n",
              "      <td>22528</td>\n",
              "      <td>3637409.750</td>\n",
              "      <td>141112</td>\n",
              "      <td>3.661642e+06</td>\n",
              "    </tr>\n",
              "    <tr>\n",
              "      <th>Dallas(TX)</th>\n",
              "      <td>16730</td>\n",
              "      <td>2752627.750</td>\n",
              "      <td>104620</td>\n",
              "      <td>2.767976e+06</td>\n",
              "    </tr>\n",
              "    <tr>\n",
              "      <th>Los Angeles(CA)</th>\n",
              "      <td>33289</td>\n",
              "      <td>5421435.000</td>\n",
              "      <td>208325</td>\n",
              "      <td>5.452571e+06</td>\n",
              "    </tr>\n",
              "    <tr>\n",
              "      <th>New York City(NY)</th>\n",
              "      <td>27932</td>\n",
              "      <td>4635371.000</td>\n",
              "      <td>175741</td>\n",
              "      <td>4.664318e+06</td>\n",
              "    </tr>\n",
              "    <tr>\n",
              "      <th>Portland(ME)</th>\n",
              "      <td>2750</td>\n",
              "      <td>447189.250</td>\n",
              "      <td>17144</td>\n",
              "      <td>4.497583e+05</td>\n",
              "    </tr>\n",
              "    <tr>\n",
              "      <th>Portland(OR)</th>\n",
              "      <td>11303</td>\n",
              "      <td>1860558.250</td>\n",
              "      <td>70621</td>\n",
              "      <td>1.870732e+06</td>\n",
              "    </tr>\n",
              "    <tr>\n",
              "      <th>San Francisco(CA)</th>\n",
              "      <td>50239</td>\n",
              "      <td>8211461.500</td>\n",
              "      <td>315520</td>\n",
              "      <td>8.262204e+06</td>\n",
              "    </tr>\n",
              "    <tr>\n",
              "      <th>Seattle(WA)</th>\n",
              "      <td>16553</td>\n",
              "      <td>2733296.000</td>\n",
              "      <td>104941</td>\n",
              "      <td>2.747756e+06</td>\n",
              "    </tr>\n",
              "  </tbody>\n",
              "</table>\n",
              "</div>"
            ],
            "text/plain": [
              "                    Quantity Ordered   Price Each   month         sales\n",
              "city                                                                   \n",
              " Atlanta(GA)                   16602  2779908.250  104794  2.795498e+06\n",
              " Austin(TX)                    11153  1809873.625   69829  1.819582e+06\n",
              " Boston(MA)                    22528  3637409.750  141112  3.661642e+06\n",
              " Dallas(TX)                    16730  2752627.750  104620  2.767976e+06\n",
              " Los Angeles(CA)               33289  5421435.000  208325  5.452571e+06\n",
              " New York City(NY)             27932  4635371.000  175741  4.664318e+06\n",
              " Portland(ME)                   2750   447189.250   17144  4.497583e+05\n",
              " Portland(OR)                  11303  1860558.250   70621  1.870732e+06\n",
              " San Francisco(CA)             50239  8211461.500  315520  8.262204e+06\n",
              " Seattle(WA)                   16553  2733296.000  104941  2.747756e+06"
            ]
          },
          "metadata": {
            "tags": []
          },
          "execution_count": 19
        }
      ]
    },
    {
      "cell_type": "code",
      "metadata": {
        "colab": {
          "base_uri": "https://localhost:8080/"
        },
        "id": "CmUxg7a_xvsd",
        "outputId": "5cb48e53-fd0f-489c-ed2d-ac2acfad690f"
      },
      "source": [
        "city_sales_stat.index"
      ],
      "execution_count": 20,
      "outputs": [
        {
          "output_type": "execute_result",
          "data": {
            "text/plain": [
              "Index([' Atlanta(GA)', ' Austin(TX)', ' Boston(MA)', ' Dallas(TX)',\n",
              "       ' Los Angeles(CA)', ' New York City(NY)', ' Portland(ME)',\n",
              "       ' Portland(OR)', ' San Francisco(CA)', ' Seattle(WA)'],\n",
              "      dtype='object', name='city')"
            ]
          },
          "metadata": {
            "tags": []
          },
          "execution_count": 20
        }
      ]
    },
    {
      "cell_type": "code",
      "metadata": {
        "colab": {
          "base_uri": "https://localhost:8080/",
          "height": 374
        },
        "id": "NCgPb9frxNJP",
        "outputId": "04d875e7-46ca-4feb-de1d-0981ceeb1fd4"
      },
      "source": [
        "import matplotlib.pyplot as plt\n",
        "plt.bar(city_sales_stat.index,city_sales_stat['sales'])\n",
        "plt.xticks(city_sales_stat.index,rotation='vertical')\n",
        "plt.ylabel(\"Sales in US($)\")\n",
        "plt.xlabel(\"City\")\n",
        "plt.show()\n"
      ],
      "execution_count": 21,
      "outputs": [
        {
          "output_type": "display_data",
          "data": {
            "image/png": "[encoded data removed]",
            "text/plain": [
              "<Figure size 432x288 with 1 Axes>"
            ]
          },
          "metadata": {
            "tags": [],
            "needs_background": "light"
          }
        }
      ]
    },
    {
      "cell_type": "markdown",
      "metadata": {
        "id": "KVucyHGw14Pn"
      },
      "source": [
        "## **What time should we display advertisemens to maximize the likelihood of customer’s buying product?**"
      ]
    },
    {
      "cell_type": "code",
      "metadata": {
        "id": "b5EcrcQbxYDx"
      },
      "source": [
        "#using date time library - convert to date time format\n",
        "all_data['Order Date']  = pd.to_datetime(all_data['Order Date'])"
      ],
      "execution_count": 22,
      "outputs": []
    },
    {
      "cell_type": "code",
      "metadata": {
        "colab": {
          "base_uri": "https://localhost:8080/",
          "height": 206
        },
        "id": "8Wp2s5-B2wa4",
        "outputId": "eed4dd9a-d153-4c09-8230-511626076a93"
      },
      "source": [
        "all_data.head()"
      ],
      "execution_count": 23,
      "outputs": [
        {
          "output_type": "execute_result",
          "data": {
            "text/html": [
              "<div>\n",
              "<style scoped>\n",
              "    .dataframe tbody tr th:only-of-type {\n",
              "        vertical-align: middle;\n",
              "    }\n",
              "\n",
              "    .dataframe tbody tr th {\n",
              "        vertical-align: top;\n",
              "    }\n",
              "\n",
              "    .dataframe thead th {\n",
              "        text-align: right;\n",
              "    }\n",
              "</style>\n",
              "<table border=\"1\" class=\"dataframe\">\n",
              "  <thead>\n",
              "    <tr style=\"text-align: right;\">\n",
              "      <th></th>\n",
              "      <th>Order ID</th>\n",
              "      <th>Product</th>\n",
              "      <th>Quantity Ordered</th>\n",
              "      <th>Price Each</th>\n",
              "      <th>Order Date</th>\n",
              "      <th>Purchase Address</th>\n",
              "      <th>month</th>\n",
              "      <th>sales</th>\n",
              "      <th>city</th>\n",
              "    </tr>\n",
              "  </thead>\n",
              "  <tbody>\n",
              "    <tr>\n",
              "      <th>0</th>\n",
              "      <td>194095</td>\n",
              "      <td>Wired Headphones</td>\n",
              "      <td>1</td>\n",
              "      <td>11.990000</td>\n",
              "      <td>2019-05-16 17:14:00</td>\n",
              "      <td>669 2nd St, New York City, NY 10001</td>\n",
              "      <td>5</td>\n",
              "      <td>11.990000</td>\n",
              "      <td>New York City(NY)</td>\n",
              "    </tr>\n",
              "    <tr>\n",
              "      <th>1</th>\n",
              "      <td>194096</td>\n",
              "      <td>AA Batteries (4-pack)</td>\n",
              "      <td>1</td>\n",
              "      <td>3.840000</td>\n",
              "      <td>2019-05-19 14:43:00</td>\n",
              "      <td>844 Walnut St, Dallas, TX 75001</td>\n",
              "      <td>5</td>\n",
              "      <td>3.840000</td>\n",
              "      <td>Dallas(TX)</td>\n",
              "    </tr>\n",
              "    <tr>\n",
              "      <th>2</th>\n",
              "      <td>194097</td>\n",
              "      <td>27in FHD Monitor</td>\n",
              "      <td>1</td>\n",
              "      <td>149.990005</td>\n",
              "      <td>2019-05-24 11:36:00</td>\n",
              "      <td>164 Madison St, New York City, NY 10001</td>\n",
              "      <td>5</td>\n",
              "      <td>149.990005</td>\n",
              "      <td>New York City(NY)</td>\n",
              "    </tr>\n",
              "    <tr>\n",
              "      <th>3</th>\n",
              "      <td>194098</td>\n",
              "      <td>Wired Headphones</td>\n",
              "      <td>1</td>\n",
              "      <td>11.990000</td>\n",
              "      <td>2019-05-02 20:40:00</td>\n",
              "      <td>622 Meadow St, Dallas, TX 75001</td>\n",
              "      <td>5</td>\n",
              "      <td>11.990000</td>\n",
              "      <td>Dallas(TX)</td>\n",
              "    </tr>\n",
              "    <tr>\n",
              "      <th>4</th>\n",
              "      <td>194099</td>\n",
              "      <td>AAA Batteries (4-pack)</td>\n",
              "      <td>2</td>\n",
              "      <td>2.990000</td>\n",
              "      <td>2019-05-11 22:55:00</td>\n",
              "      <td>17 Church St, Seattle, WA 98101</td>\n",
              "      <td>5</td>\n",
              "      <td>5.980000</td>\n",
              "      <td>Seattle(WA)</td>\n",
              "    </tr>\n",
              "  </tbody>\n",
              "</table>\n",
              "</div>"
            ],
            "text/plain": [
              "  Order ID                 Product  ...       sales                city\n",
              "0   194095        Wired Headphones  ...   11.990000   New York City(NY)\n",
              "1   194096   AA Batteries (4-pack)  ...    3.840000          Dallas(TX)\n",
              "2   194097        27in FHD Monitor  ...  149.990005   New York City(NY)\n",
              "3   194098        Wired Headphones  ...   11.990000          Dallas(TX)\n",
              "4   194099  AAA Batteries (4-pack)  ...    5.980000         Seattle(WA)\n",
              "\n",
              "[5 rows x 9 columns]"
            ]
          },
          "metadata": {
            "tags": []
          },
          "execution_count": 23
        }
      ]
    },
    {
      "cell_type": "code",
      "metadata": {
        "colab": {
          "base_uri": "https://localhost:8080/",
          "height": 206
        },
        "id": "bRmy-aWg23EW",
        "outputId": "79d3af1e-3bd9-45e6-b0e3-e25be8ad3783"
      },
      "source": [
        "all_data['Hour'] = all_data['Order Date'].dt.hour\n",
        "all_data['Minute'] = all_data['Order Date'].dt.minute\n",
        "all_data.head()"
      ],
      "execution_count": 24,
      "outputs": [
        {
          "output_type": "execute_result",
          "data": {
            "text/html": [
              "<div>\n",
              "<style scoped>\n",
              "    .dataframe tbody tr th:only-of-type {\n",
              "        vertical-align: middle;\n",
              "    }\n",
              "\n",
              "    .dataframe tbody tr th {\n",
              "        vertical-align: top;\n",
              "    }\n",
              "\n",
              "    .dataframe thead th {\n",
              "        text-align: right;\n",
              "    }\n",
              "</style>\n",
              "<table border=\"1\" class=\"dataframe\">\n",
              "  <thead>\n",
              "    <tr style=\"text-align: right;\">\n",
              "      <th></th>\n",
              "      <th>Order ID</th>\n",
              "      <th>Product</th>\n",
              "      <th>Quantity Ordered</th>\n",
              "      <th>Price Each</th>\n",
              "      <th>Order Date</th>\n",
              "      <th>Purchase Address</th>\n",
              "      <th>month</th>\n",
              "      <th>sales</th>\n",
              "      <th>city</th>\n",
              "      <th>Hour</th>\n",
              "      <th>Minute</th>\n",
              "    </tr>\n",
              "  </thead>\n",
              "  <tbody>\n",
              "    <tr>\n",
              "      <th>0</th>\n",
              "      <td>194095</td>\n",
              "      <td>Wired Headphones</td>\n",
              "      <td>1</td>\n",
              "      <td>11.990000</td>\n",
              "      <td>2019-05-16 17:14:00</td>\n",
              "      <td>669 2nd St, New York City, NY 10001</td>\n",
              "      <td>5</td>\n",
              "      <td>11.990000</td>\n",
              "      <td>New York City(NY)</td>\n",
              "      <td>17</td>\n",
              "      <td>14</td>\n",
              "    </tr>\n",
              "    <tr>\n",
              "      <th>1</th>\n",
              "      <td>194096</td>\n",
              "      <td>AA Batteries (4-pack)</td>\n",
              "      <td>1</td>\n",
              "      <td>3.840000</td>\n",
              "      <td>2019-05-19 14:43:00</td>\n",
              "      <td>844 Walnut St, Dallas, TX 75001</td>\n",
              "      <td>5</td>\n",
              "      <td>3.840000</td>\n",
              "      <td>Dallas(TX)</td>\n",
              "      <td>14</td>\n",
              "      <td>43</td>\n",
              "    </tr>\n",
              "    <tr>\n",
              "      <th>2</th>\n",
              "      <td>194097</td>\n",
              "      <td>27in FHD Monitor</td>\n",
              "      <td>1</td>\n",
              "      <td>149.990005</td>\n",
              "      <td>2019-05-24 11:36:00</td>\n",
              "      <td>164 Madison St, New York City, NY 10001</td>\n",
              "      <td>5</td>\n",
              "      <td>149.990005</td>\n",
              "      <td>New York City(NY)</td>\n",
              "      <td>11</td>\n",
              "      <td>36</td>\n",
              "    </tr>\n",
              "    <tr>\n",
              "      <th>3</th>\n",
              "      <td>194098</td>\n",
              "      <td>Wired Headphones</td>\n",
              "      <td>1</td>\n",
              "      <td>11.990000</td>\n",
              "      <td>2019-05-02 20:40:00</td>\n",
              "      <td>622 Meadow St, Dallas, TX 75001</td>\n",
              "      <td>5</td>\n",
              "      <td>11.990000</td>\n",
              "      <td>Dallas(TX)</td>\n",
              "      <td>20</td>\n",
              "      <td>40</td>\n",
              "    </tr>\n",
              "    <tr>\n",
              "      <th>4</th>\n",
              "      <td>194099</td>\n",
              "      <td>AAA Batteries (4-pack)</td>\n",
              "      <td>2</td>\n",
              "      <td>2.990000</td>\n",
              "      <td>2019-05-11 22:55:00</td>\n",
              "      <td>17 Church St, Seattle, WA 98101</td>\n",
              "      <td>5</td>\n",
              "      <td>5.980000</td>\n",
              "      <td>Seattle(WA)</td>\n",
              "      <td>22</td>\n",
              "      <td>55</td>\n",
              "    </tr>\n",
              "  </tbody>\n",
              "</table>\n",
              "</div>"
            ],
            "text/plain": [
              "  Order ID                 Product  ...  Hour  Minute\n",
              "0   194095        Wired Headphones  ...    17      14\n",
              "1   194096   AA Batteries (4-pack)  ...    14      43\n",
              "2   194097        27in FHD Monitor  ...    11      36\n",
              "3   194098        Wired Headphones  ...    20      40\n",
              "4   194099  AAA Batteries (4-pack)  ...    22      55\n",
              "\n",
              "[5 rows x 11 columns]"
            ]
          },
          "metadata": {
            "tags": []
          },
          "execution_count": 24
        }
      ]
    },
    {
      "cell_type": "code",
      "metadata": {
        "colab": {
          "base_uri": "https://localhost:8080/",
          "height": 237
        },
        "id": "GV1Ci6vX3JkV",
        "outputId": "71fdf66e-d1cd-4c91-b1ef-2649563cdebf"
      },
      "source": [
        "hour_stat = all_data.groupby(['Hour']).count()\n",
        "hour_stat.head()"
      ],
      "execution_count": 25,
      "outputs": [
        {
          "output_type": "execute_result",
          "data": {
            "text/html": [
              "<div>\n",
              "<style scoped>\n",
              "    .dataframe tbody tr th:only-of-type {\n",
              "        vertical-align: middle;\n",
              "    }\n",
              "\n",
              "    .dataframe tbody tr th {\n",
              "        vertical-align: top;\n",
              "    }\n",
              "\n",
              "    .dataframe thead th {\n",
              "        text-align: right;\n",
              "    }\n",
              "</style>\n",
              "<table border=\"1\" class=\"dataframe\">\n",
              "  <thead>\n",
              "    <tr style=\"text-align: right;\">\n",
              "      <th></th>\n",
              "      <th>Order ID</th>\n",
              "      <th>Product</th>\n",
              "      <th>Quantity Ordered</th>\n",
              "      <th>Price Each</th>\n",
              "      <th>Order Date</th>\n",
              "      <th>Purchase Address</th>\n",
              "      <th>month</th>\n",
              "      <th>sales</th>\n",
              "      <th>city</th>\n",
              "      <th>Minute</th>\n",
              "    </tr>\n",
              "    <tr>\n",
              "      <th>Hour</th>\n",
              "      <th></th>\n",
              "      <th></th>\n",
              "      <th></th>\n",
              "      <th></th>\n",
              "      <th></th>\n",
              "      <th></th>\n",
              "      <th></th>\n",
              "      <th></th>\n",
              "      <th></th>\n",
              "      <th></th>\n",
              "    </tr>\n",
              "  </thead>\n",
              "  <tbody>\n",
              "    <tr>\n",
              "      <th>0</th>\n",
              "      <td>3910</td>\n",
              "      <td>3910</td>\n",
              "      <td>3910</td>\n",
              "      <td>3910</td>\n",
              "      <td>3910</td>\n",
              "      <td>3910</td>\n",
              "      <td>3910</td>\n",
              "      <td>3910</td>\n",
              "      <td>3910</td>\n",
              "      <td>3910</td>\n",
              "    </tr>\n",
              "    <tr>\n",
              "      <th>1</th>\n",
              "      <td>2350</td>\n",
              "      <td>2350</td>\n",
              "      <td>2350</td>\n",
              "      <td>2350</td>\n",
              "      <td>2350</td>\n",
              "      <td>2350</td>\n",
              "      <td>2350</td>\n",
              "      <td>2350</td>\n",
              "      <td>2350</td>\n",
              "      <td>2350</td>\n",
              "    </tr>\n",
              "    <tr>\n",
              "      <th>2</th>\n",
              "      <td>1243</td>\n",
              "      <td>1243</td>\n",
              "      <td>1243</td>\n",
              "      <td>1243</td>\n",
              "      <td>1243</td>\n",
              "      <td>1243</td>\n",
              "      <td>1243</td>\n",
              "      <td>1243</td>\n",
              "      <td>1243</td>\n",
              "      <td>1243</td>\n",
              "    </tr>\n",
              "    <tr>\n",
              "      <th>3</th>\n",
              "      <td>831</td>\n",
              "      <td>831</td>\n",
              "      <td>831</td>\n",
              "      <td>831</td>\n",
              "      <td>831</td>\n",
              "      <td>831</td>\n",
              "      <td>831</td>\n",
              "      <td>831</td>\n",
              "      <td>831</td>\n",
              "      <td>831</td>\n",
              "    </tr>\n",
              "    <tr>\n",
              "      <th>4</th>\n",
              "      <td>854</td>\n",
              "      <td>854</td>\n",
              "      <td>854</td>\n",
              "      <td>854</td>\n",
              "      <td>854</td>\n",
              "      <td>854</td>\n",
              "      <td>854</td>\n",
              "      <td>854</td>\n",
              "      <td>854</td>\n",
              "      <td>854</td>\n",
              "    </tr>\n",
              "  </tbody>\n",
              "</table>\n",
              "</div>"
            ],
            "text/plain": [
              "      Order ID  Product  Quantity Ordered  ...  sales  city  Minute\n",
              "Hour                                       ...                     \n",
              "0         3910     3910              3910  ...   3910  3910    3910\n",
              "1         2350     2350              2350  ...   2350  2350    2350\n",
              "2         1243     1243              1243  ...   1243  1243    1243\n",
              "3          831      831               831  ...    831   831     831\n",
              "4          854      854               854  ...    854   854     854\n",
              "\n",
              "[5 rows x 10 columns]"
            ]
          },
          "metadata": {
            "tags": []
          },
          "execution_count": 25
        }
      ]
    },
    {
      "cell_type": "code",
      "metadata": {
        "colab": {
          "base_uri": "https://localhost:8080/",
          "height": 279
        },
        "id": "yWpwKQa43jOw",
        "outputId": "18b838c9-eaf6-4120-ee9d-7c68a5453892"
      },
      "source": [
        "plt.plot(hour_stat.index,hour_stat)\n",
        "plt.xticks(hour_stat.index)\n",
        "plt.grid()\n",
        "plt.xlabel(\"Hour of the Day\")\n",
        "plt.ylabel(\"No of orders\")\n",
        "plt.show()"
      ],
      "execution_count": 26,
      "outputs": [
        {
          "output_type": "display_data",
          "data": {
            "image/png": "[encoded data removed]",
            "text/plain": [
              "<Figure size 432x288 with 1 Axes>"
            ]
          },
          "metadata": {
            "tags": [],
            "needs_background": "light"
          }
        }
      ]
    },
    {
      "cell_type": "markdown",
      "metadata": {
        "id": "lkO3MB_u4qR5"
      },
      "source": [
        "## **What products are most often sold together?**"
      ]
    },
    {
      "cell_type": "code",
      "metadata": {
        "colab": {
          "base_uri": "https://localhost:8080/",
          "height": 206
        },
        "id": "q0Kjq7XB38Bl",
        "outputId": "5dc26e39-5b16-4a04-f5bd-7deac224fd91"
      },
      "source": [
        "all_data.head()"
      ],
      "execution_count": 27,
      "outputs": [
        {
          "output_type": "execute_result",
          "data": {
            "text/html": [
              "<div>\n",
              "<style scoped>\n",
              "    .dataframe tbody tr th:only-of-type {\n",
              "        vertical-align: middle;\n",
              "    }\n",
              "\n",
              "    .dataframe tbody tr th {\n",
              "        vertical-align: top;\n",
              "    }\n",
              "\n",
              "    .dataframe thead th {\n",
              "        text-align: right;\n",
              "    }\n",
              "</style>\n",
              "<table border=\"1\" class=\"dataframe\">\n",
              "  <thead>\n",
              "    <tr style=\"text-align: right;\">\n",
              "      <th></th>\n",
              "      <th>Order ID</th>\n",
              "      <th>Product</th>\n",
              "      <th>Quantity Ordered</th>\n",
              "      <th>Price Each</th>\n",
              "      <th>Order Date</th>\n",
              "      <th>Purchase Address</th>\n",
              "      <th>month</th>\n",
              "      <th>sales</th>\n",
              "      <th>city</th>\n",
              "      <th>Hour</th>\n",
              "      <th>Minute</th>\n",
              "    </tr>\n",
              "  </thead>\n",
              "  <tbody>\n",
              "    <tr>\n",
              "      <th>0</th>\n",
              "      <td>194095</td>\n",
              "      <td>Wired Headphones</td>\n",
              "      <td>1</td>\n",
              "      <td>11.990000</td>\n",
              "      <td>2019-05-16 17:14:00</td>\n",
              "      <td>669 2nd St, New York City, NY 10001</td>\n",
              "      <td>5</td>\n",
              "      <td>11.990000</td>\n",
              "      <td>New York City(NY)</td>\n",
              "      <td>17</td>\n",
              "      <td>14</td>\n",
              "    </tr>\n",
              "    <tr>\n",
              "      <th>1</th>\n",
              "      <td>194096</td>\n",
              "      <td>AA Batteries (4-pack)</td>\n",
              "      <td>1</td>\n",
              "      <td>3.840000</td>\n",
              "      <td>2019-05-19 14:43:00</td>\n",
              "      <td>844 Walnut St, Dallas, TX 75001</td>\n",
              "      <td>5</td>\n",
              "      <td>3.840000</td>\n",
              "      <td>Dallas(TX)</td>\n",
              "      <td>14</td>\n",
              "      <td>43</td>\n",
              "    </tr>\n",
              "    <tr>\n",
              "      <th>2</th>\n",
              "      <td>194097</td>\n",
              "      <td>27in FHD Monitor</td>\n",
              "      <td>1</td>\n",
              "      <td>149.990005</td>\n",
              "      <td>2019-05-24 11:36:00</td>\n",
              "      <td>164 Madison St, New York City, NY 10001</td>\n",
              "      <td>5</td>\n",
              "      <td>149.990005</td>\n",
              "      <td>New York City(NY)</td>\n",
              "      <td>11</td>\n",
              "      <td>36</td>\n",
              "    </tr>\n",
              "    <tr>\n",
              "      <th>3</th>\n",
              "      <td>194098</td>\n",
              "      <td>Wired Headphones</td>\n",
              "      <td>1</td>\n",
              "      <td>11.990000</td>\n",
              "      <td>2019-05-02 20:40:00</td>\n",
              "      <td>622 Meadow St, Dallas, TX 75001</td>\n",
              "      <td>5</td>\n",
              "      <td>11.990000</td>\n",
              "      <td>Dallas(TX)</td>\n",
              "      <td>20</td>\n",
              "      <td>40</td>\n",
              "    </tr>\n",
              "    <tr>\n",
              "      <th>4</th>\n",
              "      <td>194099</td>\n",
              "      <td>AAA Batteries (4-pack)</td>\n",
              "      <td>2</td>\n",
              "      <td>2.990000</td>\n",
              "      <td>2019-05-11 22:55:00</td>\n",
              "      <td>17 Church St, Seattle, WA 98101</td>\n",
              "      <td>5</td>\n",
              "      <td>5.980000</td>\n",
              "      <td>Seattle(WA)</td>\n",
              "      <td>22</td>\n",
              "      <td>55</td>\n",
              "    </tr>\n",
              "  </tbody>\n",
              "</table>\n",
              "</div>"
            ],
            "text/plain": [
              "  Order ID                 Product  ...  Hour  Minute\n",
              "0   194095        Wired Headphones  ...    17      14\n",
              "1   194096   AA Batteries (4-pack)  ...    14      43\n",
              "2   194097        27in FHD Monitor  ...    11      36\n",
              "3   194098        Wired Headphones  ...    20      40\n",
              "4   194099  AAA Batteries (4-pack)  ...    22      55\n",
              "\n",
              "[5 rows x 11 columns]"
            ]
          },
          "metadata": {
            "tags": []
          },
          "execution_count": 27
        }
      ]
    },
    {
      "cell_type": "code",
      "metadata": {
        "colab": {
          "base_uri": "https://localhost:8080/",
          "height": 414
        },
        "id": "eI17lXBP45CP",
        "outputId": "8ade36a6-a2fe-4cc7-e6f9-19ce6b382e8f"
      },
      "source": [
        "# Finding duplicate values in our DataFrame\n",
        "### https://stackoverflow.com/questions/43348194/pandas-select-rows-if-id-appear-several-time\n",
        "df  = all_data[all_data['Order ID'].duplicated(keep=False)]\n",
        "##\n",
        "# Referenced: https://stackoverflow.com/questions/27298178/concatenate-strings-from-several-rows-using-pandas-groupby\n",
        "# Use transform() method to join values from two rows into a single row\n",
        "\n",
        "df['Grouped'] = df.groupby('Order ID')['Product'].transform(lambda x : ','.join(x))\n",
        "df.head()"
      ],
      "execution_count": 28,
      "outputs": [
        {
          "output_type": "stream",
          "text": [
            "/usr/local/lib/python3.6/dist-packages/ipykernel_launcher.py:8: SettingWithCopyWarning: \n",
            "A value is trying to be set on a copy of a slice from a DataFrame.\n",
            "Try using .loc[row_indexer,col_indexer] = value instead\n",
            "\n",
            "See the caveats in the documentation: https://pandas.pydata.org/pandas-docs/stable/user_guide/indexing.html#returning-a-view-versus-a-copy\n",
            "  \n"
          ],
          "name": "stderr"
        },
        {
          "output_type": "execute_result",
          "data": {
            "text/html": [
              "<div>\n",
              "<style scoped>\n",
              "    .dataframe tbody tr th:only-of-type {\n",
              "        vertical-align: middle;\n",
              "    }\n",
              "\n",
              "    .dataframe tbody tr th {\n",
              "        vertical-align: top;\n",
              "    }\n",
              "\n",
              "    .dataframe thead th {\n",
              "        text-align: right;\n",
              "    }\n",
              "</style>\n",
              "<table border=\"1\" class=\"dataframe\">\n",
              "  <thead>\n",
              "    <tr style=\"text-align: right;\">\n",
              "      <th></th>\n",
              "      <th>Order ID</th>\n",
              "      <th>Product</th>\n",
              "      <th>Quantity Ordered</th>\n",
              "      <th>Price Each</th>\n",
              "      <th>Order Date</th>\n",
              "      <th>Purchase Address</th>\n",
              "      <th>month</th>\n",
              "      <th>sales</th>\n",
              "      <th>city</th>\n",
              "      <th>Hour</th>\n",
              "      <th>Minute</th>\n",
              "      <th>Grouped</th>\n",
              "    </tr>\n",
              "  </thead>\n",
              "  <tbody>\n",
              "    <tr>\n",
              "      <th>15</th>\n",
              "      <td>194110</td>\n",
              "      <td>Google Phone</td>\n",
              "      <td>1</td>\n",
              "      <td>600.00</td>\n",
              "      <td>2019-05-31 18:07:00</td>\n",
              "      <td>498 14th St, Los Angeles, CA 90001</td>\n",
              "      <td>5</td>\n",
              "      <td>600.00</td>\n",
              "      <td>Los Angeles(CA)</td>\n",
              "      <td>18</td>\n",
              "      <td>7</td>\n",
              "      <td>Google Phone,Wired Headphones</td>\n",
              "    </tr>\n",
              "    <tr>\n",
              "      <th>16</th>\n",
              "      <td>194110</td>\n",
              "      <td>Wired Headphones</td>\n",
              "      <td>1</td>\n",
              "      <td>11.99</td>\n",
              "      <td>2019-05-31 18:07:00</td>\n",
              "      <td>498 14th St, Los Angeles, CA 90001</td>\n",
              "      <td>5</td>\n",
              "      <td>11.99</td>\n",
              "      <td>Los Angeles(CA)</td>\n",
              "      <td>18</td>\n",
              "      <td>7</td>\n",
              "      <td>Google Phone,Wired Headphones</td>\n",
              "    </tr>\n",
              "    <tr>\n",
              "      <th>77</th>\n",
              "      <td>194170</td>\n",
              "      <td>Google Phone</td>\n",
              "      <td>1</td>\n",
              "      <td>600.00</td>\n",
              "      <td>2019-05-30 12:30:00</td>\n",
              "      <td>711 Maple St, San Francisco, CA 94016</td>\n",
              "      <td>5</td>\n",
              "      <td>600.00</td>\n",
              "      <td>San Francisco(CA)</td>\n",
              "      <td>12</td>\n",
              "      <td>30</td>\n",
              "      <td>Google Phone,USB-C Charging Cable</td>\n",
              "    </tr>\n",
              "    <tr>\n",
              "      <th>78</th>\n",
              "      <td>194170</td>\n",
              "      <td>USB-C Charging Cable</td>\n",
              "      <td>2</td>\n",
              "      <td>11.95</td>\n",
              "      <td>2019-05-30 12:30:00</td>\n",
              "      <td>711 Maple St, San Francisco, CA 94016</td>\n",
              "      <td>5</td>\n",
              "      <td>23.90</td>\n",
              "      <td>San Francisco(CA)</td>\n",
              "      <td>12</td>\n",
              "      <td>30</td>\n",
              "      <td>Google Phone,USB-C Charging Cable</td>\n",
              "    </tr>\n",
              "    <tr>\n",
              "      <th>82</th>\n",
              "      <td>194174</td>\n",
              "      <td>iPhone</td>\n",
              "      <td>1</td>\n",
              "      <td>700.00</td>\n",
              "      <td>2019-05-04 23:08:00</td>\n",
              "      <td>37 North St, Seattle, WA 98101</td>\n",
              "      <td>5</td>\n",
              "      <td>700.00</td>\n",
              "      <td>Seattle(WA)</td>\n",
              "      <td>23</td>\n",
              "      <td>8</td>\n",
              "      <td>iPhone,Lightning Charging Cable,Wired Headphones</td>\n",
              "    </tr>\n",
              "  </tbody>\n",
              "</table>\n",
              "</div>"
            ],
            "text/plain": [
              "   Order ID  ...                                           Grouped\n",
              "15   194110  ...                     Google Phone,Wired Headphones\n",
              "16   194110  ...                     Google Phone,Wired Headphones\n",
              "77   194170  ...                 Google Phone,USB-C Charging Cable\n",
              "78   194170  ...                 Google Phone,USB-C Charging Cable\n",
              "82   194174  ...  iPhone,Lightning Charging Cable,Wired Headphones\n",
              "\n",
              "[5 rows x 12 columns]"
            ]
          },
          "metadata": {
            "tags": []
          },
          "execution_count": 28
        }
      ]
    },
    {
      "cell_type": "code",
      "metadata": {
        "id": "xg_Kc2MP5Tr3"
      },
      "source": [
        "#Dropping rows with duplicate values\n",
        "df = df[['Order ID' , 'Grouped']].drop_duplicates()"
      ],
      "execution_count": 29,
      "outputs": []
    },
    {
      "cell_type": "code",
      "metadata": {
        "colab": {
          "base_uri": "https://localhost:8080/",
          "height": 424
        },
        "id": "anDuOVY0-9oX",
        "outputId": "1febb7df-b4ea-4f0e-dde3-cdaaf9e865bf"
      },
      "source": [
        " df"
      ],
      "execution_count": 30,
      "outputs": [
        {
          "output_type": "execute_result",
          "data": {
            "text/html": [
              "<div>\n",
              "<style scoped>\n",
              "    .dataframe tbody tr th:only-of-type {\n",
              "        vertical-align: middle;\n",
              "    }\n",
              "\n",
              "    .dataframe tbody tr th {\n",
              "        vertical-align: top;\n",
              "    }\n",
              "\n",
              "    .dataframe thead th {\n",
              "        text-align: right;\n",
              "    }\n",
              "</style>\n",
              "<table border=\"1\" class=\"dataframe\">\n",
              "  <thead>\n",
              "    <tr style=\"text-align: right;\">\n",
              "      <th></th>\n",
              "      <th>Order ID</th>\n",
              "      <th>Grouped</th>\n",
              "    </tr>\n",
              "  </thead>\n",
              "  <tbody>\n",
              "    <tr>\n",
              "      <th>15</th>\n",
              "      <td>194110</td>\n",
              "      <td>Google Phone,Wired Headphones</td>\n",
              "    </tr>\n",
              "    <tr>\n",
              "      <th>77</th>\n",
              "      <td>194170</td>\n",
              "      <td>Google Phone,USB-C Charging Cable</td>\n",
              "    </tr>\n",
              "    <tr>\n",
              "      <th>82</th>\n",
              "      <td>194174</td>\n",
              "      <td>iPhone,Lightning Charging Cable,Wired Headphones</td>\n",
              "    </tr>\n",
              "    <tr>\n",
              "      <th>89</th>\n",
              "      <td>194179</td>\n",
              "      <td>Flatscreen TV,AAA Batteries (4-pack)</td>\n",
              "    </tr>\n",
              "    <tr>\n",
              "      <th>103</th>\n",
              "      <td>194192</td>\n",
              "      <td>Wired Headphones,Bose SoundSport Headphones</td>\n",
              "    </tr>\n",
              "    <tr>\n",
              "      <th>...</th>\n",
              "      <td>...</td>\n",
              "      <td>...</td>\n",
              "    </tr>\n",
              "    <tr>\n",
              "      <th>186798</th>\n",
              "      <td>222863</td>\n",
              "      <td>27in FHD Monitor,Bose SoundSport Headphones</td>\n",
              "    </tr>\n",
              "    <tr>\n",
              "      <th>186804</th>\n",
              "      <td>222868</td>\n",
              "      <td>iPhone,Apple Airpods Headphones</td>\n",
              "    </tr>\n",
              "    <tr>\n",
              "      <th>186819</th>\n",
              "      <td>222882</td>\n",
              "      <td>Apple Airpods Headphones,AA Batteries (4-pack)</td>\n",
              "    </tr>\n",
              "    <tr>\n",
              "      <th>186822</th>\n",
              "      <td>222884</td>\n",
              "      <td>Google Phone,USB-C Charging Cable</td>\n",
              "    </tr>\n",
              "    <tr>\n",
              "      <th>186842</th>\n",
              "      <td>222903</td>\n",
              "      <td>iPhone,Lightning Charging Cable</td>\n",
              "    </tr>\n",
              "  </tbody>\n",
              "</table>\n",
              "<p>7136 rows × 2 columns</p>\n",
              "</div>"
            ],
            "text/plain": [
              "       Order ID                                           Grouped\n",
              "15       194110                     Google Phone,Wired Headphones\n",
              "77       194170                 Google Phone,USB-C Charging Cable\n",
              "82       194174  iPhone,Lightning Charging Cable,Wired Headphones\n",
              "89       194179              Flatscreen TV,AAA Batteries (4-pack)\n",
              "103      194192       Wired Headphones,Bose SoundSport Headphones\n",
              "...         ...                                               ...\n",
              "186798   222863       27in FHD Monitor,Bose SoundSport Headphones\n",
              "186804   222868                   iPhone,Apple Airpods Headphones\n",
              "186819   222882    Apple Airpods Headphones,AA Batteries (4-pack)\n",
              "186822   222884                 Google Phone,USB-C Charging Cable\n",
              "186842   222903                   iPhone,Lightning Charging Cable\n",
              "\n",
              "[7136 rows x 2 columns]"
            ]
          },
          "metadata": {
            "tags": []
          },
          "execution_count": 30
        }
      ]
    },
    {
      "cell_type": "code",
      "metadata": {
        "colab": {
          "base_uri": "https://localhost:8080/"
        },
        "id": "vRhSDceVGjG8",
        "outputId": "1b5815e2-be03-41e1-82c1-267ca63e2283"
      },
      "source": [
        "# Referenced: https://stackoverflow.com/questions/52195887/counting-unique-pairs-of-numbers-into-a-python-dictionary\n",
        "#Counting pairs of products (itertools, collections)\n",
        "from itertools import combinations\n",
        "from collections import Counter\n",
        "\n",
        "count = Counter()\n",
        "\n",
        "for row in df['Grouped']:\n",
        "  row_list = row.split(',')\n",
        "  count.update(Counter(combinations(row_list,2)))\n",
        "\n",
        "#most common possible combinations - This data can be used by companies\n",
        "#to sell 2 items together or in a recommendation\n",
        "for key,value in count.most_common(10):\n",
        "  print(key,value)\n"
      ],
      "execution_count": 33,
      "outputs": [
        {
          "output_type": "stream",
          "text": [
            "('iPhone', 'Lightning Charging Cable') 1005\n",
            "('Google Phone', 'USB-C Charging Cable') 987\n",
            "('iPhone', 'Wired Headphones') 447\n",
            "('Google Phone', 'Wired Headphones') 414\n",
            "('Vareebadd Phone', 'USB-C Charging Cable') 361\n",
            "('iPhone', 'Apple Airpods Headphones') 360\n",
            "('Google Phone', 'Bose SoundSport Headphones') 220\n",
            "('USB-C Charging Cable', 'Wired Headphones') 160\n",
            "('Vareebadd Phone', 'Wired Headphones') 143\n",
            "('Lightning Charging Cable', 'Wired Headphones') 92\n"
          ],
          "name": "stdout"
        }
      ]
    },
    {
      "cell_type": "markdown",
      "metadata": {
        "id": "OYE8o9zzYyI3"
      },
      "source": [
        "## **Question 5: What product sold the most? Why do you think it did?** "
      ]
    },
    {
      "cell_type": "code",
      "metadata": {
        "colab": {
          "base_uri": "https://localhost:8080/",
          "height": 420
        },
        "id": "pIjsCM-AY4ec",
        "outputId": "189a0d0d-24c8-4454-c6fa-a206868bc5b1"
      },
      "source": [
        "product_group = all_data.groupby('Product')\n",
        "quant_ordered = product_group.sum()['Quantity Ordered']\n",
        "\n",
        "products = [prod for prod, pp in product_group]\n",
        "plt.bar(products,quant_ordered)\n",
        "plt.xticks(products,rotation='vertical')\n",
        "plt.ylabel(\"quantity ordered\")\n",
        "plt.xlabel(\"Product Name\")\n",
        "plt.show()\n",
        "\n",
        "\n"
      ],
      "execution_count": 50,
      "outputs": [
        {
          "output_type": "display_data",
          "data": {
            "image/png": "[encoded data removed]",
            "text/plain": [
              "<Figure size 432x288 with 1 Axes>"
            ]
          },
          "metadata": {
            "tags": [],
            "needs_background": "light"
          }
        }
      ]
    },
    {
      "cell_type": "markdown",
      "metadata": {
        "id": "GcA61KAehL2N"
      },
      "source": [
        "since AAA batteries are small , cheap items they are ordered in max quantity , therefore its not okay to compare big items like monitor with batteries"
      ]
    },
    {
      "cell_type": "markdown",
      "metadata": {
        "id": "_Hx5K-6XglxR"
      },
      "source": [
        ""
      ]
    },
    {
      "cell_type": "code",
      "metadata": {
        "colab": {
          "base_uri": "https://localhost:8080/",
          "height": 756
        },
        "id": "5Hw5SKG7eqB-",
        "outputId": "74c73073-9627-47e2-a2c5-4b12db70c9c3"
      },
      "source": [
        "prices = all_data.groupby('Product').mean()['Price Each']\n",
        "print(prices)\n",
        "\n",
        "fig , ax1 = plt.subplots()\n",
        "ax2 = ax1.twinx()\n",
        "\n",
        "ax1.bar(products,quant_ordered,color='g')\n",
        "ax2.plot(products,prices,'b-')\n",
        "ax1.set_xlabel('Product Name')\n",
        "ax1.set_ylabel('Quantity Ordered',color='g')\n",
        "ax2.set_ylabel('Price($)',color='b')\n",
        "ax1.set_xticklabels(products,rotation='vertical',size=8)\n",
        "plt.show()"
      ],
      "execution_count": 54,
      "outputs": [
        {
          "output_type": "stream",
          "text": [
            "Product\n",
            "20in Monitor                   109.989998\n",
            "27in 4K Gaming Monitor         389.989990\n",
            "27in FHD Monitor               149.990005\n",
            "34in Ultrawide Monitor         379.989990\n",
            "AA Batteries (4-pack)            3.840000\n",
            "AAA Batteries (4-pack)           2.990000\n",
            "Apple Airpods Headphones       150.000000\n",
            "Bose SoundSport Headphones      99.989998\n",
            "Flatscreen TV                  300.000000\n",
            "Google Phone                   600.000000\n",
            "LG Dryer                       600.000000\n",
            "LG Washing Machine             600.000000\n",
            "Lightning Charging Cable        14.950000\n",
            "Macbook Pro Laptop            1700.000000\n",
            "ThinkPad Laptop                999.989990\n",
            "USB-C Charging Cable            11.950000\n",
            "Vareebadd Phone                400.000000\n",
            "Wired Headphones                11.990000\n",
            "iPhone                         700.000000\n",
            "Name: Price Each, dtype: float32\n"
          ],
          "name": "stdout"
        },
        {
          "output_type": "display_data",
          "data": {
            "image/png": "[encoded data removed]",
            "text/plain": [
              "<Figure size 432x288 with 2 Axes>"
            ]
          },
          "metadata": {
            "tags": [],
            "needs_background": "light"
          }
        }
      ]
    },
    {
      "cell_type": "markdown",
      "metadata": {
        "id": "FsJDbb2kilH8"
      },
      "source": [
        ""
      ]
    },
    {
      "cell_type": "code",
      "metadata": {
        "id": "GJJSyINGbJLz"
      },
      "source": [
        ""
      ],
      "execution_count": null,
      "outputs": []
    }
  ]
}